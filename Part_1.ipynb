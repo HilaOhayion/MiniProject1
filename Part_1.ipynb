{
 "cells": [
  {
   "cell_type": "markdown",
   "metadata": {},
   "source": [
    "## Part 1"
   ]
  },
  {
   "cell_type": "markdown",
   "metadata": {},
   "source": [
    "<u>Class hierarchy diagram</u>"
   ]
  },
  {
   "cell_type": "markdown",
   "metadata": {},
   "source": [
    "![](Class_hierarchy_diagram.png \"Class Hierarchy diagram\")"
   ]
  },
  {
   "cell_type": "markdown",
   "metadata": {},
   "source": [
    "<u>Define the classes</u>"
   ]
  },
  {
   "cell_type": "code",
   "execution_count": null,
   "metadata": {},
   "outputs": [],
   "source": [
    "class Neuron:\n",
    "    def __init__(self, firing_rate=0.0):\n",
    "        self.firing_rate = firing_rate\n",
    "    \n",
    "    def activate(self, stimulus):\n",
    "        pass\n",
    "\n",
    "class SensoryNeuron(Neuron):\n",
    "    def __init__(self, receptor_type, firing_rate=0.0):\n",
    "        super().__init__(firing_rate)\n",
    "        self.receptor_type = receptor_type\n",
    "    \n",
    "    def sense_stimulus(self, stimulus):\n",
    "        pass\n",
    "\n",
    "class MotorNeuron(Neuron):\n",
    "    def __init__(self, target_muscle, firing_rate=0.0):\n",
    "        super().__init__(firing_rate)\n",
    "        self.target_muscle = target_muscle\n",
    "    \n",
    "    def control_muscle(self):\n",
    "        pass\n",
    "\n",
    "class Photoreceptor(SensoryNeuron):\n",
    "    def __init__(self, firing_rate=0.0):\n",
    "        super().__init__(receptor_type=\"light\", firing_rate=firing_rate)\n",
    "    \n",
    "    def sense_stimulus(self, light_intensity):  \n",
    "        pass  \n",
    "\n",
    "class Mechanoreceptor(SensoryNeuron):\n",
    "    def __init__(self, firing_rate=0.0):\n",
    "        super().__init__(receptor_type=\"pressure\", firing_rate=firing_rate)\n",
    "    \n",
    "    def sense_stimulus(self, pressure): \n",
    "        pass \n",
    "\n",
    "class AlphaMotorNeuron(MotorNeuron):\n",
    "    def __init__(self, firing_rate=0.0):\n",
    "        super().__init__(target_muscle=\"skeletal muscle\", firing_rate=firing_rate)\n",
    "    \n",
    "    def control_muscle(self):  \n",
    "        pass  \n",
    "\n",
    "class GammaMotorNeuron(MotorNeuron):\n",
    "    def __init__(self, firing_rate=0.0):\n",
    "        super().__init__(target_muscle=\"muscle spindle\", firing_rate=firing_rate)\n",
    "    \n",
    "    def control_muscle(self):  \n",
    "        pass  "
   ]
  }
 ],
 "metadata": {
  "kernelspec": {
   "display_name": ".venv",
   "language": "python",
   "name": "python3"
  },
  "language_info": {
   "name": "python",
   "version": "3.13.0"
  }
 },
 "nbformat": 4,
 "nbformat_minor": 2
}
